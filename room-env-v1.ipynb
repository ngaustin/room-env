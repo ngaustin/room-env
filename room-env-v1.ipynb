{
 "cells": [
  {
   "cell_type": "code",
   "execution_count": 2,
   "metadata": {},
   "outputs": [
    {
     "name": "stdout",
     "output_type": "stream",
     "text": [
      "capacity=2, strategy=episodic,\tpre_sem=False,\trewards_mean=-9, rewards_std=2\n",
      "capacity=2, strategy=semantic,\tpre_sem=False,\trewards_mean=-8, rewards_std=2\n",
      "capacity=2, strategy=random,\tpre_sem=False,\trewards_mean=-9, rewards_std=2\n",
      "capacity=2, strategy=pre_sem,\tpre_sem=True,\trewards_mean=-8, rewards_std=3\n",
      "\n",
      "capacity=4, strategy=episodic,\tpre_sem=False,\trewards_mean=-8, rewards_std=2\n",
      "capacity=4, strategy=semantic,\tpre_sem=False,\trewards_mean=-5, rewards_std=2\n",
      "capacity=4, strategy=random,\tpre_sem=False,\trewards_mean=-7, rewards_std=2\n",
      "capacity=4, strategy=pre_sem,\tpre_sem=True,\trewards_mean=-8, rewards_std=3\n",
      "\n",
      "capacity=8, strategy=episodic,\tpre_sem=False,\trewards_mean=-7, rewards_std=2\n",
      "capacity=8, strategy=semantic,\tpre_sem=False,\trewards_mean=-3, rewards_std=2\n",
      "capacity=8, strategy=random,\tpre_sem=False,\trewards_mean=-6, rewards_std=3\n",
      "capacity=8, strategy=pre_sem,\tpre_sem=True,\trewards_mean=-5, rewards_std=3\n",
      "\n",
      "capacity=16, strategy=episodic,\tpre_sem=False,\trewards_mean=-5, rewards_std=3\n",
      "capacity=16, strategy=semantic,\tpre_sem=False,\trewards_mean=0, rewards_std=3\n",
      "capacity=16, strategy=random,\tpre_sem=False,\trewards_mean=-4, rewards_std=3\n",
      "capacity=16, strategy=pre_sem,\tpre_sem=True,\trewards_mean=-2, rewards_std=2\n",
      "\n",
      "capacity=32, strategy=episodic,\tpre_sem=False,\trewards_mean=-1, rewards_std=4\n",
      "capacity=32, strategy=semantic,\tpre_sem=False,\trewards_mean=1, rewards_std=3\n",
      "capacity=32, strategy=random,\tpre_sem=False,\trewards_mean=0, rewards_std=4\n",
      "capacity=32, strategy=pre_sem,\tpre_sem=True,\trewards_mean=5, rewards_std=2\n",
      "\n",
      "capacity=64, strategy=episodic,\tpre_sem=False,\trewards_mean=0, rewards_std=4\n",
      "capacity=64, strategy=semantic,\tpre_sem=False,\trewards_mean=1, rewards_std=3\n",
      "capacity=64, strategy=random,\tpre_sem=False,\trewards_mean=0, rewards_std=3\n",
      "capacity=64, strategy=pre_sem,\tpre_sem=True,\trewards_mean=5, rewards_std=3\n",
      "\n"
     ]
    }
   ],
   "source": [
    "import logging\n",
    "\n",
    "logger = logging.getLogger()\n",
    "logger.disabled = True\n",
    "\n",
    "from room_env.utils import print_handcrafted\n",
    "\n",
    "print_handcrafted(\n",
    "    env=\"RoomEnv-v2\",\n",
    "    des_size=\"l\",\n",
    "    seeds=[0, 1, 2, 3, 4, 5, 6, 7, 8, 9],\n",
    "    question_prob=0.1,\n",
    "    policies={\n",
    "        \"memory_management\": \"rl\",\n",
    "        \"question_answer\": \"episodic_semantic\",\n",
    "        \"encoding\": \"argmax\",\n",
    "    },\n",
    "    capacities=[2, 4, 8, 16, 32, 64],\n",
    "    varying_rewards=False,\n",
    ")"
   ]
  },
  {
   "cell_type": "code",
   "execution_count": null,
   "metadata": {},
   "outputs": [],
   "source": [
    "import gym\n",
    "import room_env\n",
    "\n",
    "env = gym.make(\"RoomEnv-v1\")\n",
    "(observation, question), info = env.reset()\n",
    "while True:\n",
    "    (observation, question), reward, done, info = env.step(\"foo\")\n",
    "    if done:\n",
    "        break"
   ]
  },
  {
   "cell_type": "code",
   "execution_count": null,
   "metadata": {},
   "outputs": [],
   "source": [
    "import gym\n",
    "import room_env\n",
    "\n",
    "env = gym.make(\"RoomEnv-v2\")\n",
    "observation, info = env.reset()\n",
    "while True:\n",
    "    observation, reward, done, info = env.step(0)\n",
    "    if done:\n",
    "        break"
   ]
  }
 ],
 "metadata": {
  "interpreter": {
   "hash": "c7c14ce45c674ffbe7e3a8bc18299264a1035542c780d18c0e8f0c585e044f28"
  },
  "kernelspec": {
   "display_name": "Python 3.8.12 ('dev-python3.8')",
   "language": "python",
   "name": "python3"
  },
  "language_info": {
   "codemirror_mode": {
    "name": "ipython",
    "version": 3
   },
   "file_extension": ".py",
   "mimetype": "text/x-python",
   "name": "python",
   "nbconvert_exporter": "python",
   "pygments_lexer": "ipython3",
   "version": "3.8.14"
  },
  "orig_nbformat": 4
 },
 "nbformat": 4,
 "nbformat_minor": 2
}
