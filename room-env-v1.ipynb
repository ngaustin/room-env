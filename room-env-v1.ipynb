{
 "cells": [
  {
   "cell_type": "code",
   "execution_count": 1,
   "metadata": {},
   "outputs": [
    {
     "name": "stdout",
     "output_type": "stream",
     "text": [
      "allow_random_human=True, allow_random_question=True\n"
     ]
    },
    {
     "name": "stderr",
     "output_type": "stream",
     "text": [
      "/home/tk/.virtualenvs/dev-python3.8/lib/python3.8/site-packages/gym/utils/passive_env_checker.py:174: UserWarning: \u001b[33mWARN: Future gym versions will require that `Env.reset` can be passed a `seed` instead of using `Env.seed` for resetting the environment random number generator.\u001b[0m\n",
      "  logger.warn(\n",
      "/home/tk/.virtualenvs/dev-python3.8/lib/python3.8/site-packages/gym/utils/passive_env_checker.py:187: UserWarning: \u001b[33mWARN: Future gym versions will require that `Env.reset` can be passed `options` to allow the environment initialisation to be passed additional information.\u001b[0m\n",
      "  logger.warn(\n",
      "/home/tk/.virtualenvs/dev-python3.8/lib/python3.8/site-packages/gym/utils/passive_env_checker.py:133: UserWarning: \u001b[33mWARN: The obs returned by the `reset()` method should be an int or np.int64, actual type: <class 'dict'>\u001b[0m\n",
      "  logger.warn(f\"{pre} should be an int or np.int64, actual type: {type(obs)}\")\n",
      "/home/tk/.virtualenvs/dev-python3.8/lib/python3.8/site-packages/gym/utils/passive_env_checker.py:165: UserWarning: \u001b[33mWARN: The obs returned by the `reset()` method is not within the observation space.\u001b[0m\n",
      "  logger.warn(f\"{pre} is not within the observation space.\")\n",
      "/home/tk/.virtualenvs/dev-python3.8/lib/python3.8/site-packages/gym/utils/passive_env_checker.py:219: DeprecationWarning: \u001b[33mWARN: Core environment is written in old step API which returns one bool instead of two. It is recommended to rewrite the environment with new step API. \u001b[0m\n",
      "  logger.deprecation(\n",
      "/home/tk/.virtualenvs/dev-python3.8/lib/python3.8/site-packages/gym/utils/passive_env_checker.py:133: UserWarning: \u001b[33mWARN: The obs returned by the `step()` method should be an int or np.int64, actual type: <class 'dict'>\u001b[0m\n",
      "  logger.warn(f\"{pre} should be an int or np.int64, actual type: {type(obs)}\")\n",
      "/home/tk/.virtualenvs/dev-python3.8/lib/python3.8/site-packages/gym/utils/passive_env_checker.py:165: UserWarning: \u001b[33mWARN: The obs returned by the `step()` method is not within the observation space.\u001b[0m\n",
      "  logger.warn(f\"{pre} is not within the observation space.\")\n"
     ]
    },
    {
     "name": "stdout",
     "output_type": "stream",
     "text": [
      "capacity=8, strategy=episodic,\tpre_sem=False,\trewards_mean=-2.3, rewards_std=2.9\n",
      "capacity=8, strategy=semantic,\tpre_sem=False,\trewards_mean=6.1, rewards_std=3.91\n",
      "capacity=8, strategy=random,\tpre_sem=False,\trewards_mean=4.3, rewards_std=4.148\n",
      "capacity=8, strategy=pre_sem,\tpre_sem=True,\trewards_mean=7.9, rewards_std=3.419\n",
      "\n",
      "allow_random_human=True, allow_random_question=False\n",
      "capacity=8, strategy=episodic,\tpre_sem=False,\trewards_mean=4.3, rewards_std=3.348\n",
      "capacity=8, strategy=semantic,\tpre_sem=False,\trewards_mean=8.7, rewards_std=4.818\n",
      "capacity=8, strategy=random,\tpre_sem=False,\trewards_mean=5.5, rewards_std=5.162\n",
      "capacity=8, strategy=pre_sem,\tpre_sem=True,\trewards_mean=9.3, rewards_std=4.818\n",
      "\n",
      "allow_random_human=False, allow_random_question=True\n",
      "capacity=8, strategy=episodic,\tpre_sem=False,\trewards_mean=-1.8, rewards_std=2.4\n",
      "capacity=8, strategy=semantic,\tpre_sem=False,\trewards_mean=7.2, rewards_std=3.156\n",
      "capacity=8, strategy=random,\tpre_sem=False,\trewards_mean=2.6, rewards_std=3.929\n",
      "capacity=8, strategy=pre_sem,\tpre_sem=True,\trewards_mean=7.4, rewards_std=3.72\n",
      "\n",
      "allow_random_human=False, allow_random_question=False\n",
      "capacity=8, strategy=episodic,\tpre_sem=False,\trewards_mean=0.6, rewards_std=4.152\n",
      "capacity=8, strategy=semantic,\tpre_sem=False,\trewards_mean=9.0, rewards_std=3.435\n",
      "capacity=8, strategy=random,\tpre_sem=False,\trewards_mean=6.2, rewards_std=2.088\n",
      "capacity=8, strategy=pre_sem,\tpre_sem=True,\trewards_mean=10.2, rewards_std=3.156\n",
      "\n"
     ]
    }
   ],
   "source": [
    "import logging\n",
    "\n",
    "logger = logging.getLogger()\n",
    "logger.disabled = True\n",
    "\n",
    "from room_env.utils import print_handcrafted\n",
    "\n",
    "for allow_random_human in [True, False]:\n",
    "    for allow_random_question in [True, False]:\n",
    "\n",
    "        print(\n",
    "            f\"allow_random_human={allow_random_human}, allow_random_question={allow_random_question}\"\n",
    "        )\n",
    "\n",
    "        print_handcrafted(\n",
    "            env=\"RoomEnv-v2\",\n",
    "            des_size=\"s\",\n",
    "            seeds=[0, 1, 2, 3, 4, 5, 6, 7, 8, 9],\n",
    "            question_prob=0.1,\n",
    "            policies={\n",
    "                \"memory_management\": \"rl\",\n",
    "                \"question_answer\": \"episodic_semantic\",\n",
    "                \"encoding\": \"argmax\",\n",
    "            },\n",
    "            capacities=[8],\n",
    "            allow_random_human=allow_random_human,\n",
    "            allow_random_question=allow_random_question,\n",
    "            varying_rewards=False,\n",
    "            check_resources=True,\n",
    "        )"
   ]
  },
  {
   "cell_type": "code",
   "execution_count": null,
   "metadata": {},
   "outputs": [],
   "source": [
    "import gym\n",
    "import room_env\n",
    "\n",
    "env = gym.make(\"RoomEnv-v1\")\n",
    "(observation, question), info = env.reset()\n",
    "while True:\n",
    "    (observation, question), reward, done, info = env.step(\"foo\")\n",
    "    if done:\n",
    "        break"
   ]
  },
  {
   "cell_type": "code",
   "execution_count": null,
   "metadata": {},
   "outputs": [],
   "source": [
    "import gym\n",
    "import room_env\n",
    "\n",
    "env = gym.make(\"RoomEnv-v2\")\n",
    "observation, info = env.reset()\n",
    "while True:\n",
    "    observation, reward, done, info = env.step(0)\n",
    "    if done:\n",
    "        break"
   ]
  }
 ],
 "metadata": {
  "interpreter": {
   "hash": "c7c14ce45c674ffbe7e3a8bc18299264a1035542c780d18c0e8f0c585e044f28"
  },
  "kernelspec": {
   "display_name": "Python 3.8.12 ('dev-python3.8')",
   "language": "python",
   "name": "python3"
  },
  "language_info": {
   "codemirror_mode": {
    "name": "ipython",
    "version": 3
   },
   "file_extension": ".py",
   "mimetype": "text/x-python",
   "name": "python",
   "nbconvert_exporter": "python",
   "pygments_lexer": "ipython3",
   "version": "3.8.14"
  },
  "orig_nbformat": 4
 },
 "nbformat": 4,
 "nbformat_minor": 2
}
