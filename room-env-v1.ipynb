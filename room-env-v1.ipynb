{
 "cells": [
  {
   "cell_type": "code",
   "execution_count": 1,
   "metadata": {},
   "outputs": [
    {
     "name": "stderr",
     "output_type": "stream",
     "text": [
      "/home/tk/.virtualenvs/dev-python3.8/lib/python3.8/site-packages/gym/utils/passive_env_checker.py:174: UserWarning: \u001b[33mWARN: Future gym versions will require that `Env.reset` can be passed a `seed` instead of using `Env.seed` for resetting the environment random number generator.\u001b[0m\n",
      "  logger.warn(\n",
      "/home/tk/.virtualenvs/dev-python3.8/lib/python3.8/site-packages/gym/utils/passive_env_checker.py:187: UserWarning: \u001b[33mWARN: Future gym versions will require that `Env.reset` can be passed `options` to allow the environment initialisation to be passed additional information.\u001b[0m\n",
      "  logger.warn(\n",
      "/home/tk/.virtualenvs/dev-python3.8/lib/python3.8/site-packages/gym/utils/passive_env_checker.py:133: UserWarning: \u001b[33mWARN: The obs returned by the `reset()` method should be an int or np.int64, actual type: <class 'dict'>\u001b[0m\n",
      "  logger.warn(f\"{pre} should be an int or np.int64, actual type: {type(obs)}\")\n",
      "/home/tk/.virtualenvs/dev-python3.8/lib/python3.8/site-packages/gym/utils/passive_env_checker.py:165: UserWarning: \u001b[33mWARN: The obs returned by the `reset()` method is not within the observation space.\u001b[0m\n",
      "  logger.warn(f\"{pre} is not within the observation space.\")\n",
      "/home/tk/.virtualenvs/dev-python3.8/lib/python3.8/site-packages/gym/utils/passive_env_checker.py:219: DeprecationWarning: \u001b[33mWARN: Core environment is written in old step API which returns one bool instead of two. It is recommended to rewrite the environment with new step API. \u001b[0m\n",
      "  logger.deprecation(\n",
      "/home/tk/.virtualenvs/dev-python3.8/lib/python3.8/site-packages/gym/utils/passive_env_checker.py:133: UserWarning: \u001b[33mWARN: The obs returned by the `step()` method should be an int or np.int64, actual type: <class 'dict'>\u001b[0m\n",
      "  logger.warn(f\"{pre} should be an int or np.int64, actual type: {type(obs)}\")\n",
      "/home/tk/.virtualenvs/dev-python3.8/lib/python3.8/site-packages/gym/utils/passive_env_checker.py:165: UserWarning: \u001b[33mWARN: The obs returned by the `step()` method is not within the observation space.\u001b[0m\n",
      "  logger.warn(f\"{pre} is not within the observation space.\")\n"
     ]
    },
    {
     "name": "stdout",
     "output_type": "stream",
     "text": [
      "capacity=2, strategy=episodic,\tpre_sem=False,\trewards_mean=-11.0, rewards_std=4.266\n",
      "capacity=2, strategy=semantic,\tpre_sem=False,\trewards_mean=-9.8, rewards_std=3.156\n",
      "capacity=2, strategy=random,\tpre_sem=False,\trewards_mean=-10.0, rewards_std=3.521\n",
      "capacity=2, strategy=pre_sem,\tpre_sem=True,\trewards_mean=-10.0, rewards_std=3.347\n",
      "\n",
      "capacity=4, strategy=episodic,\tpre_sem=False,\trewards_mean=-9.8, rewards_std=3.894\n",
      "capacity=4, strategy=semantic,\tpre_sem=False,\trewards_mean=-7.2, rewards_std=3.709\n",
      "capacity=4, strategy=random,\tpre_sem=False,\trewards_mean=-8.8, rewards_std=3.37\n",
      "capacity=4, strategy=pre_sem,\tpre_sem=True,\trewards_mean=-9.2, rewards_std=4.118\n",
      "\n",
      "capacity=8, strategy=episodic,\tpre_sem=False,\trewards_mean=-8.8, rewards_std=3.816\n",
      "capacity=8, strategy=semantic,\tpre_sem=False,\trewards_mean=-2.6, rewards_std=4.779\n",
      "capacity=8, strategy=random,\tpre_sem=False,\trewards_mean=-7.6, rewards_std=3.878\n",
      "capacity=8, strategy=pre_sem,\tpre_sem=True,\trewards_mean=-7.0, rewards_std=4.494\n",
      "\n",
      "capacity=16, strategy=episodic,\tpre_sem=False,\trewards_mean=-6.4, rewards_std=3.499\n",
      "capacity=16, strategy=semantic,\tpre_sem=False,\trewards_mean=0.6, rewards_std=4.294\n",
      "capacity=16, strategy=random,\tpre_sem=False,\trewards_mean=-4.4, rewards_std=4.03\n",
      "capacity=16, strategy=pre_sem,\tpre_sem=True,\trewards_mean=-3.0, rewards_std=5.196\n",
      "\n",
      "capacity=32, strategy=episodic,\tpre_sem=False,\trewards_mean=-3.2, rewards_std=4.445\n",
      "capacity=32, strategy=semantic,\tpre_sem=False,\trewards_mean=2.8, rewards_std=3.919\n",
      "capacity=32, strategy=random,\tpre_sem=False,\trewards_mean=-2.0, rewards_std=4.561\n",
      "capacity=32, strategy=pre_sem,\tpre_sem=True,\trewards_mean=7.2, rewards_std=3.919\n",
      "\n",
      "capacity=64, strategy=episodic,\tpre_sem=False,\trewards_mean=-1.2, rewards_std=4.578\n",
      "capacity=64, strategy=semantic,\tpre_sem=False,\trewards_mean=3.0, rewards_std=4.626\n",
      "capacity=64, strategy=random,\tpre_sem=False,\trewards_mean=-1.2, rewards_std=5.307\n",
      "capacity=64, strategy=pre_sem,\tpre_sem=True,\trewards_mean=6.8, rewards_std=3.763\n",
      "\n"
     ]
    }
   ],
   "source": [
    "import logging\n",
    "\n",
    "logger = logging.getLogger()\n",
    "logger.disabled = True\n",
    "\n",
    "from room_env.utils import print_handcrafted\n",
    "\n",
    "\n",
    "print_handcrafted(\n",
    "    env=\"RoomEnv-v2\",\n",
    "    des_size=\"l\",\n",
    "    seeds=[0, 1, 2, 3, 4, 5, 6, 7, 8, 9],\n",
    "    question_prob=0.1,\n",
    "    policies={\n",
    "        \"memory_management\": \"rl\",\n",
    "        \"question_answer\": \"episodic_semantic\",\n",
    "        \"encoding\": \"argmax\",\n",
    "    },\n",
    "    capacities=[2, 4, 8, 16, 32, 64],\n",
    "    allow_random_human=False,\n",
    "    allow_random_question=True,\n",
    "    varying_rewards=False,\n",
    "    check_resources=True,\n",
    ")"
   ]
  },
  {
   "cell_type": "code",
   "execution_count": null,
   "metadata": {},
   "outputs": [],
   "source": [
    "import gym\n",
    "import room_env\n",
    "\n",
    "env = gym.make(\"RoomEnv-v1\")\n",
    "(observation, question), info = env.reset()\n",
    "while True:\n",
    "    (observation, question), reward, done, info = env.step(\"foo\")\n",
    "    if done:\n",
    "        break"
   ]
  },
  {
   "cell_type": "code",
   "execution_count": null,
   "metadata": {},
   "outputs": [],
   "source": [
    "import gym\n",
    "import room_env\n",
    "\n",
    "env = gym.make(\"RoomEnv-v2\")\n",
    "observation, info = env.reset()\n",
    "while True:\n",
    "    observation, reward, done, info = env.step(0)\n",
    "    if done:\n",
    "        break"
   ]
  }
 ],
 "metadata": {
  "interpreter": {
   "hash": "c7c14ce45c674ffbe7e3a8bc18299264a1035542c780d18c0e8f0c585e044f28"
  },
  "kernelspec": {
   "display_name": "Python 3.8.12 ('dev-python3.8')",
   "language": "python",
   "name": "python3"
  },
  "language_info": {
   "codemirror_mode": {
    "name": "ipython",
    "version": 3
   },
   "file_extension": ".py",
   "mimetype": "text/x-python",
   "name": "python",
   "nbconvert_exporter": "python",
   "pygments_lexer": "ipython3",
   "version": "3.8.14"
  },
  "orig_nbformat": 4
 },
 "nbformat": 4,
 "nbformat_minor": 2
}
