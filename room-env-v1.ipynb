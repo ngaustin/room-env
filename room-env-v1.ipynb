{
 "cells": [
  {
   "cell_type": "code",
   "execution_count": 1,
   "metadata": {},
   "outputs": [
    {
     "name": "stderr",
     "output_type": "stream",
     "text": [
      "  0%|          | 0/6 [00:00<?, ?it/s]/home/tk/.virtualenvs/dev-python3.8/lib/python3.8/site-packages/gym/utils/passive_env_checker.py:174: UserWarning: \u001b[33mWARN: Future gym versions will require that `Env.reset` can be passed a `seed` instead of using `Env.seed` for resetting the environment random number generator.\u001b[0m\n",
      "  logger.warn(\n",
      "/home/tk/.virtualenvs/dev-python3.8/lib/python3.8/site-packages/gym/utils/passive_env_checker.py:187: UserWarning: \u001b[33mWARN: Future gym versions will require that `Env.reset` can be passed `options` to allow the environment initialisation to be passed additional information.\u001b[0m\n",
      "  logger.warn(\n",
      "/home/tk/.virtualenvs/dev-python3.8/lib/python3.8/site-packages/gym/utils/passive_env_checker.py:133: UserWarning: \u001b[33mWARN: The obs returned by the `reset()` method should be an int or np.int64, actual type: <class 'dict'>\u001b[0m\n",
      "  logger.warn(f\"{pre} should be an int or np.int64, actual type: {type(obs)}\")\n",
      "/home/tk/.virtualenvs/dev-python3.8/lib/python3.8/site-packages/gym/utils/passive_env_checker.py:165: UserWarning: \u001b[33mWARN: The obs returned by the `reset()` method is not within the observation space.\u001b[0m\n",
      "  logger.warn(f\"{pre} is not within the observation space.\")\n",
      "/home/tk/.virtualenvs/dev-python3.8/lib/python3.8/site-packages/gym/utils/passive_env_checker.py:219: DeprecationWarning: \u001b[33mWARN: Core environment is written in old step API which returns one bool instead of two. It is recommended to rewrite the environment with new step API. \u001b[0m\n",
      "  logger.deprecation(\n",
      "/home/tk/.virtualenvs/dev-python3.8/lib/python3.8/site-packages/gym/utils/passive_env_checker.py:133: UserWarning: \u001b[33mWARN: The obs returned by the `step()` method should be an int or np.int64, actual type: <class 'dict'>\u001b[0m\n",
      "  logger.warn(f\"{pre} should be an int or np.int64, actual type: {type(obs)}\")\n",
      "/home/tk/.virtualenvs/dev-python3.8/lib/python3.8/site-packages/gym/utils/passive_env_checker.py:165: UserWarning: \u001b[33mWARN: The obs returned by the `step()` method is not within the observation space.\u001b[0m\n",
      "  logger.warn(f\"{pre} is not within the observation space.\")\n",
      "100%|██████████| 6/6 [01:14<00:00, 12.48s/it]"
     ]
    },
    {
     "name": "stdout",
     "output_type": "stream",
     "text": [
      "{2: {'episodic': {'mean': -97.2, 'std': 7.111},\n",
      "     'pre_sem': {'mean': -88.8, 'std': 8.01},\n",
      "     'random': {'mean': -97.8, 'std': 5.618},\n",
      "     'semantic': {'mean': -85.0, 'std': 7.225}},\n",
      " 4: {'episodic': {'mean': -84.2, 'std': 7.718},\n",
      "     'pre_sem': {'mean': -75.0, 'std': 7.169},\n",
      "     'random': {'mean': -79.6, 'std': 6.741},\n",
      "     'semantic': {'mean': -57.6, 'std': 8.04}},\n",
      " 8: {'episodic': {'mean': -62.0, 'std': 8.944},\n",
      "     'pre_sem': {'mean': -47.2, 'std': 8.256},\n",
      "     'random': {'mean': -45.0, 'std': 3.606},\n",
      "     'semantic': {'mean': -10.4, 'std': 19.2}},\n",
      " 16: {'episodic': {'mean': -19.8, 'std': 11.294},\n",
      "      'pre_sem': {'mean': -5.2, 'std': 9.558},\n",
      "      'random': {'mean': -6.8, 'std': 7.859},\n",
      "      'semantic': {'mean': 40.8, 'std': 9.968}},\n",
      " 32: {'episodic': {'mean': 50.4, 'std': 8.429},\n",
      "      'pre_sem': {'mean': 87.6, 'std': 7.736},\n",
      "      'random': {'mean': 37.0, 'std': 10.325},\n",
      "      'semantic': {'mean': 55.6, 'std': 12.484}},\n",
      " 64: {'episodic': {'mean': 128.0, 'std': 0.0},\n",
      "      'pre_sem': {'mean': 107.0, 'std': 5.459},\n",
      "      'random': {'mean': 52.6, 'std': 13.507},\n",
      "      'semantic': {'mean': 57.8, 'std': 9.652}}}\n"
     ]
    },
    {
     "name": "stderr",
     "output_type": "stream",
     "text": [
      "\n"
     ]
    }
   ],
   "source": [
    "import logging\n",
    "\n",
    "logger = logging.getLogger()\n",
    "logger.disabled = True\n",
    "\n",
    "from pprint import pprint\n",
    "from room_env.utils import get_handcrafted\n",
    "\n",
    "\n",
    "results = get_handcrafted(\n",
    "    env=\"RoomEnv-v2\",\n",
    "    des_size=\"l\",\n",
    "    seeds=[0, 1, 2, 3, 4, 5, 6, 7, 8, 9],\n",
    "    question_prob=1,\n",
    "    policies={\n",
    "        \"memory_management\": \"rl\",\n",
    "        \"question_answer\": \"episodic_semantic\",\n",
    "        \"encoding\": \"argmax\",\n",
    "    },\n",
    "    capacities=[2, 4, 8, 16, 32, 64],\n",
    "    allow_random_human=False,\n",
    "    allow_random_question=False,\n",
    "    varying_rewards=False,\n",
    "    check_resources=True,\n",
    "    version=\"v1\",\n",
    ")\n",
    "pprint(results)"
   ]
  },
  {
   "cell_type": "code",
   "execution_count": 2,
   "metadata": {},
   "outputs": [
    {
     "name": "stderr",
     "output_type": "stream",
     "text": [
      "/home/tk/.virtualenvs/dev-python3.8/lib/python3.8/site-packages/gym/envs/registration.py:555: UserWarning: \u001b[33mWARN: The environment RoomEnv-v1 is out of date. You should consider upgrading to version `v2`.\u001b[0m\n",
      "  logger.warn(\n",
      "/home/tk/.virtualenvs/dev-python3.8/lib/python3.8/site-packages/gym/utils/passive_env_checker.py:133: UserWarning: \u001b[33mWARN: The obs returned by the `reset()` method should be an int or np.int64, actual type: <class 'tuple'>\u001b[0m\n",
      "  logger.warn(f\"{pre} should be an int or np.int64, actual type: {type(obs)}\")\n",
      "/home/tk/.virtualenvs/dev-python3.8/lib/python3.8/site-packages/gym/utils/passive_env_checker.py:133: UserWarning: \u001b[33mWARN: The obs returned by the `step()` method should be an int or np.int64, actual type: <class 'tuple'>\u001b[0m\n",
      "  logger.warn(f\"{pre} should be an int or np.int64, actual type: {type(obs)}\")\n"
     ]
    }
   ],
   "source": [
    "import gym\n",
    "import room_env\n",
    "\n",
    "env = gym.make(\"RoomEnv-v1\")\n",
    "(observation, question), info = env.reset()\n",
    "while True:\n",
    "    (observation, question), reward, done, truncated, info = env.step(\"foo\")\n",
    "    if done:\n",
    "        break"
   ]
  },
  {
   "cell_type": "code",
   "execution_count": 3,
   "metadata": {},
   "outputs": [],
   "source": [
    "import gym\n",
    "import room_env\n",
    "\n",
    "env = gym.make(\"RoomEnv-v2\")\n",
    "observation, info = env.reset()\n",
    "while True:\n",
    "    observation, reward, done, truncated, info = env.step(0)\n",
    "    if done:\n",
    "        break"
   ]
  }
 ],
 "metadata": {
  "interpreter": {
   "hash": "c7c14ce45c674ffbe7e3a8bc18299264a1035542c780d18c0e8f0c585e044f28"
  },
  "kernelspec": {
   "display_name": "Python 3.8.12 ('dev-python3.8')",
   "language": "python",
   "name": "python3"
  },
  "language_info": {
   "codemirror_mode": {
    "name": "ipython",
    "version": 3
   },
   "file_extension": ".py",
   "mimetype": "text/x-python",
   "name": "python",
   "nbconvert_exporter": "python",
   "pygments_lexer": "ipython3",
   "version": "3.8.14"
  },
  "orig_nbformat": 4
 },
 "nbformat": 4,
 "nbformat_minor": 2
}
