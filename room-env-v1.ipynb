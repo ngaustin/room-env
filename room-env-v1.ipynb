{
 "cells": [
  {
   "cell_type": "code",
   "execution_count": 1,
   "metadata": {},
   "outputs": [
    {
     "name": "stderr",
     "output_type": "stream",
     "text": [
      "/home/tk/.virtualenvs/dev-python3.8/lib/python3.8/site-packages/gym/utils/passive_env_checker.py:174: UserWarning: \u001b[33mWARN: Future gym versions will require that `Env.reset` can be passed a `seed` instead of using `Env.seed` for resetting the environment random number generator.\u001b[0m\n",
      "  logger.warn(\n",
      "/home/tk/.virtualenvs/dev-python3.8/lib/python3.8/site-packages/gym/utils/passive_env_checker.py:187: UserWarning: \u001b[33mWARN: Future gym versions will require that `Env.reset` can be passed `options` to allow the environment initialisation to be passed additional information.\u001b[0m\n",
      "  logger.warn(\n",
      "/home/tk/.virtualenvs/dev-python3.8/lib/python3.8/site-packages/gym/utils/passive_env_checker.py:133: UserWarning: \u001b[33mWARN: The obs returned by the `reset()` method should be an int or np.int64, actual type: <class 'dict'>\u001b[0m\n",
      "  logger.warn(f\"{pre} should be an int or np.int64, actual type: {type(obs)}\")\n",
      "/home/tk/.virtualenvs/dev-python3.8/lib/python3.8/site-packages/gym/utils/passive_env_checker.py:165: UserWarning: \u001b[33mWARN: The obs returned by the `reset()` method is not within the observation space.\u001b[0m\n",
      "  logger.warn(f\"{pre} is not within the observation space.\")\n",
      "/home/tk/.virtualenvs/dev-python3.8/lib/python3.8/site-packages/gym/utils/passive_env_checker.py:133: UserWarning: \u001b[33mWARN: The obs returned by the `step()` method should be an int or np.int64, actual type: <class 'dict'>\u001b[0m\n",
      "  logger.warn(f\"{pre} should be an int or np.int64, actual type: {type(obs)}\")\n",
      "/home/tk/.virtualenvs/dev-python3.8/lib/python3.8/site-packages/gym/utils/passive_env_checker.py:165: UserWarning: \u001b[33mWARN: The obs returned by the `step()` method is not within the observation space.\u001b[0m\n",
      "  logger.warn(f\"{pre} is not within the observation space.\")\n"
     ]
    },
    {
     "name": "stdout",
     "output_type": "stream",
     "text": [
      "{2: {'episodic': {'mean': -45.5, 'std': 5.92},\n",
      "     'pre_sem': {'mean': -42.3, 'std': 5.021},\n",
      "     'random': {'mean': -46.5, 'std': 5.608},\n",
      "     'semantic': {'mean': -37.9, 'std': 6.236}},\n",
      " 4: {'episodic': {'mean': -38.5, 'std': 5.886},\n",
      "     'pre_sem': {'mean': -34.7, 'std': 5.728},\n",
      "     'random': {'mean': -36.1, 'std': 10.885},\n",
      "     'semantic': {'mean': -27.1, 'std': 5.186}},\n",
      " 8: {'episodic': {'mean': -27.9, 'std': 6.963},\n",
      "     'pre_sem': {'mean': -20.9, 'std': 7.162},\n",
      "     'random': {'mean': -26.3, 'std': 7.128},\n",
      "     'semantic': {'mean': -1.5, 'std': 5.201}},\n",
      " 16: {'episodic': {'mean': -10.1, 'std': 7.382},\n",
      "      'pre_sem': {'mean': -0.9, 'std': 9.534},\n",
      "      'random': {'mean': 2.3, 'std': 8.603},\n",
      "      'semantic': {'mean': 18.5, 'std': 6.859}},\n",
      " 32: {'episodic': {'mean': 25.5, 'std': 7.527},\n",
      "      'pre_sem': {'mean': 44.3, 'std': 4.981},\n",
      "      'random': {'mean': 19.9, 'std': 6.58},\n",
      "      'semantic': {'mean': 30.1, 'std': 6.789}},\n",
      " 64: {'episodic': {'mean': 64.3, 'std': 4.518},\n",
      "      'pre_sem': {'mean': 53.1, 'std': 5.485},\n",
      "      'random': {'mean': 28.5, 'std': 11.147},\n",
      "      'semantic': {'mean': 30.1, 'std': 8.443}}}\n"
     ]
    }
   ],
   "source": [
    "import logging\n",
    "\n",
    "logger = logging.getLogger()\n",
    "logger.disabled = True\n",
    "\n",
    "from pprint import pprint\n",
    "from room_env.utils import get_handcrafted\n",
    "\n",
    "\n",
    "results = get_handcrafted(\n",
    "    env=\"RoomEnv-v1\",\n",
    "    des_size=\"l\",\n",
    "    seeds=[0, 1, 2, 3, 4, 5, 6, 7, 8, 9],\n",
    "    question_prob=0.5,\n",
    "    policies={\n",
    "        \"memory_management\": \"rl\",\n",
    "        \"question_answer\": \"episodic_semantic\",\n",
    "        \"encoding\": \"argmax\",\n",
    "    },\n",
    "    capacities=[2, 4, 8, 16, 32, 64],\n",
    "    allow_random_human=False,\n",
    "    allow_random_question=False,\n",
    "    varying_rewards=False,\n",
    "    check_resources=True,\n",
    ")\n",
    "pprint(results)"
   ]
  },
  {
   "cell_type": "code",
   "execution_count": 2,
   "metadata": {},
   "outputs": [],
   "source": [
    "import logging\n",
    "\n",
    "logger = logging.getLogger()\n",
    "logger.disabled = True\n",
    "\n",
    "\n",
    "import gym\n",
    "import room_env\n",
    "\n",
    "for capacity in [2, 4, 8, 16, 32, 64]:\n",
    "    for question_prob in [0.5, 1.0]:\n",
    "        for pretrain_semantic in [False, True]:\n",
    "            env = gym.make(\n",
    "                \"RoomEnv-v1\",\n",
    "                capacity={\n",
    "                    \"episodic\": capacity // 2,\n",
    "                    \"semantic\": capacity // 2,\n",
    "                    \"short\": 1,\n",
    "                },\n",
    "                question_prob=question_prob,\n",
    "                pretrain_semantic=pretrain_semantic,\n",
    "            )\n",
    "            observation, info = env.reset()\n",
    "            while True:\n",
    "                observation, reward, done, truncated, info = env.step(0)\n",
    "                if done:\n",
    "                    break"
   ]
  }
 ],
 "metadata": {
  "interpreter": {
   "hash": "c7c14ce45c674ffbe7e3a8bc18299264a1035542c780d18c0e8f0c585e044f28"
  },
  "kernelspec": {
   "display_name": "Python 3.8.12 ('dev-python3.8')",
   "language": "python",
   "name": "python3"
  },
  "language_info": {
   "codemirror_mode": {
    "name": "ipython",
    "version": 3
   },
   "file_extension": ".py",
   "mimetype": "text/x-python",
   "name": "python",
   "nbconvert_exporter": "python",
   "pygments_lexer": "ipython3",
   "version": "3.8.15"
  },
  "orig_nbformat": 4
 },
 "nbformat": 4,
 "nbformat_minor": 2
}
