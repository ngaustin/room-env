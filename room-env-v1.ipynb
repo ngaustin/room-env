{
 "cells": [
  {
   "cell_type": "code",
   "execution_count": null,
   "metadata": {},
   "outputs": [],
   "source": [
    "import logging\n",
    "\n",
    "logger = logging.getLogger()\n",
    "logger.disabled = True\n",
    "\n",
    "from room_env.utils import print_handcrafted\n",
    "\n",
    "print_handcrafted(\n",
    "    env=\"RoomEnv-v2\",\n",
    "    des_size=\"l\",\n",
    "    seeds=[0, 1, 2, 3, 4, 5, 6, 7, 8, 9],\n",
    "    question_prob=0.1,\n",
    "    policies={\n",
    "        \"memory_management\": \"rl\",\n",
    "        \"question_answer\": \"episodic_semantic\",\n",
    "        \"encoding\": \"argmax\",\n",
    "    },\n",
    "    capacities=[2, 4, 8, 16, 32, 64],\n",
    ")"
   ]
  }
 ],
 "metadata": {
  "interpreter": {
   "hash": "c7c14ce45c674ffbe7e3a8bc18299264a1035542c780d18c0e8f0c585e044f28"
  },
  "kernelspec": {
   "display_name": "Python 3.8.12 ('dev-python3.8')",
   "language": "python",
   "name": "python3"
  },
  "language_info": {
   "codemirror_mode": {
    "name": "ipython",
    "version": 3
   },
   "file_extension": ".py",
   "mimetype": "text/x-python",
   "name": "python",
   "nbconvert_exporter": "python",
   "pygments_lexer": "ipython3",
   "version": "3.8.14"
  },
  "orig_nbformat": 4
 },
 "nbformat": 4,
 "nbformat_minor": 2
}
